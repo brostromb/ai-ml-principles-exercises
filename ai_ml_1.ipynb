{
  "nbformat": 4,
  "nbformat_minor": 0,
  "metadata": {
    "colab": {
      "provenance": [],
      "authorship_tag": "ABX9TyOgSNB2qCl85lkEdjCwKQ48",
      "include_colab_link": true
    },
    "kernelspec": {
      "name": "python3",
      "display_name": "Python 3"
    },
    "language_info": {
      "name": "python"
    }
  },
  "cells": [
    {
      "cell_type": "markdown",
      "metadata": {
        "id": "view-in-github",
        "colab_type": "text"
      },
      "source": [
        "<a href=\"https://colab.research.google.com/github/brostromb/ai-ml-principles-exercises/blob/main/ai_ml_1.ipynb\" target=\"_parent\"><img src=\"https://colab.research.google.com/assets/colab-badge.svg\" alt=\"Open In Colab\"/></a>"
      ]
    },
    {
      "cell_type": "code",
      "execution_count": 1,
      "metadata": {
        "id": "uEW3dUxVnkri",
        "outputId": "7c331d90-1d78-4116-d41a-dc403c553c52",
        "colab": {
          "base_uri": "https://localhost:8080/"
        }
      },
      "outputs": [
        {
          "output_type": "stream",
          "name": "stdout",
          "text": [
            "hello world!\n"
          ]
        }
      ],
      "source": [
        "print('hello world!')"
      ]
    },
    {
      "cell_type": "code",
      "source": [
        "import sklearn"
      ],
      "metadata": {
        "id": "ia4hMwVnnuo6"
      },
      "execution_count": 2,
      "outputs": []
    },
    {
      "cell_type": "code",
      "source": [
        "import sklearn.datasets as datasets\n",
        "import numpy as np"
      ],
      "metadata": {
        "id": "ma2sIQQ8n0fO"
      },
      "execution_count": 11,
      "outputs": []
    },
    {
      "cell_type": "code",
      "source": [
        "data = datasets.load_digits()"
      ],
      "metadata": {
        "id": "-qNtdojRoNk5"
      },
      "execution_count": 12,
      "outputs": []
    },
    {
      "cell_type": "code",
      "source": [
        "type(data)"
      ],
      "metadata": {
        "id": "sswZtZ25oOT6",
        "outputId": "75407c02-1509-4d56-e81f-23d01f8c9b01",
        "colab": {
          "base_uri": "https://localhost:8080/"
        }
      },
      "execution_count": 13,
      "outputs": [
        {
          "output_type": "execute_result",
          "data": {
            "text/plain": [
              "sklearn.utils.Bunch"
            ]
          },
          "metadata": {},
          "execution_count": 13
        }
      ]
    },
    {
      "cell_type": "code",
      "source": [
        "data.keys()"
      ],
      "metadata": {
        "id": "BDO1oSm4oQRj",
        "outputId": "f6451116-ddd1-4ac4-cfb5-7023bb4735bf",
        "colab": {
          "base_uri": "https://localhost:8080/"
        }
      },
      "execution_count": 14,
      "outputs": [
        {
          "output_type": "execute_result",
          "data": {
            "text/plain": [
              "dict_keys(['data', 'target', 'frame', 'feature_names', 'target_names', 'images', 'DESCR'])"
            ]
          },
          "metadata": {},
          "execution_count": 14
        }
      ]
    },
    {
      "cell_type": "code",
      "source": [
        "len(data.images)"
      ],
      "metadata": {
        "id": "vWJemVVOoQYm",
        "outputId": "ad463389-816b-4753-9cb9-6c8a57587fdf",
        "colab": {
          "base_uri": "https://localhost:8080/"
        }
      },
      "execution_count": 15,
      "outputs": [
        {
          "output_type": "execute_result",
          "data": {
            "text/plain": [
              "1797"
            ]
          },
          "metadata": {},
          "execution_count": 15
        }
      ]
    },
    {
      "cell_type": "code",
      "source": [
        "(data.images[0] / 16 * 255).astype(np.uint8)"
      ],
      "metadata": {
        "id": "Dy3msOm2pRzy",
        "outputId": "6fdac2d0-f1c2-472c-bb1b-8ebf7938906d",
        "colab": {
          "base_uri": "https://localhost:8080/"
        }
      },
      "execution_count": 16,
      "outputs": [
        {
          "output_type": "execute_result",
          "data": {
            "text/plain": [
              "array([[  0,   0,  79, 207, 143,  15,   0,   0],\n",
              "       [  0,   0, 207, 239, 159, 239,  79,   0],\n",
              "       [  0,  47, 239,  31,   0, 175, 127,   0],\n",
              "       [  0,  63, 191,   0,   0, 127, 127,   0],\n",
              "       [  0,  79, 127,   0,   0, 143, 127,   0],\n",
              "       [  0,  63, 175,   0,  15, 191, 111,   0],\n",
              "       [  0,  31, 223,  79, 159, 191,   0,   0],\n",
              "       [  0,   0,  95, 207, 159,   0,   0,   0]], dtype=uint8)"
            ]
          },
          "metadata": {},
          "execution_count": 16
        }
      ]
    },
    {
      "cell_type": "code",
      "source": [
        "data.target[0]"
      ],
      "metadata": {
        "id": "UC1pGMA_p1vx",
        "outputId": "a2ac0efe-d87c-4e86-bee4-8059367ae381",
        "colab": {
          "base_uri": "https://localhost:8080/"
        }
      },
      "execution_count": 17,
      "outputs": [
        {
          "output_type": "execute_result",
          "data": {
            "text/plain": [
              "0"
            ]
          },
          "metadata": {},
          "execution_count": 17
        }
      ]
    },
    {
      "cell_type": "code",
      "source": [
        "import numpy as np"
      ],
      "metadata": {
        "id": "m25TrTnDqqCW"
      },
      "execution_count": 18,
      "outputs": []
    },
    {
      "cell_type": "code",
      "source": [
        "np.max(data.images)"
      ],
      "metadata": {
        "id": "lE3iMs89quOx",
        "outputId": "b4281765-ad1d-4007-cff6-fb0456d15c4c",
        "colab": {
          "base_uri": "https://localhost:8080/"
        }
      },
      "execution_count": 19,
      "outputs": [
        {
          "output_type": "execute_result",
          "data": {
            "text/plain": [
              "16.0"
            ]
          },
          "metadata": {},
          "execution_count": 19
        }
      ]
    },
    {
      "cell_type": "code",
      "source": [
        "from PIL import Image\n",
        "Image.fromarray((data.images[0] / 16 * 255).astype(np.uint8), 'L').resize((100,100), resample=Image.NEAREST)"
      ],
      "metadata": {
        "id": "By-EJ8EdquFB",
        "outputId": "c45f89c9-79fd-4a3e-b432-5b28830e9898",
        "colab": {
          "base_uri": "https://localhost:8080/",
          "height": 117
        }
      },
      "execution_count": 20,
      "outputs": [
        {
          "output_type": "execute_result",
          "data": {
            "text/plain": [
              "<PIL.Image.Image image mode=L size=100x100 at 0x7F01CB653EB0>"
            ],
            "image/png": "[encoded data removed]"
          },
          "metadata": {},
          "execution_count": 20
        }
      ]
    },
    {
      "cell_type": "code",
      "source": [
        "from PIL import Image\n",
        "i=0\n",
        "print(data.target[i])\n",
        "Image.fromarray((data.images[i] / 16 * 255).astype(np.uint8), 'L').resize((100,100), resample=Image.NEAREST)"
      ],
      "metadata": {
        "id": "1uosncdNqt2L",
        "outputId": "fc61bf92-010c-496a-e9de-8ec5e8d7b36e",
        "colab": {
          "base_uri": "https://localhost:8080/",
          "height": 134
        }
      },
      "execution_count": 21,
      "outputs": [
        {
          "output_type": "stream",
          "name": "stdout",
          "text": [
            "0\n"
          ]
        },
        {
          "output_type": "execute_result",
          "data": {
            "text/plain": [
              "<PIL.Image.Image image mode=L size=100x100 at 0x7F01BFA95970>"
            ],
            "image/png": "[encoded data removed]"
          },
          "metadata": {},
          "execution_count": 21
        }
      ]
    },
    {
      "cell_type": "code",
      "source": [
        "from PIL import Image\n",
        "i=7\n",
        "print(data.target[i])\n",
        "Image.fromarray((data.images[i] / 16 * 255).astype(np.uint8), 'L').resize((100,100), resample=Image.NEAREST)"
      ],
      "metadata": {
        "id": "WQWgnCEJutBA",
        "outputId": "eff3e286-6f46-4a90-dd00-fd0a8b537ae4",
        "colab": {
          "base_uri": "https://localhost:8080/",
          "height": 134
        }
      },
      "execution_count": 22,
      "outputs": [
        {
          "output_type": "stream",
          "name": "stdout",
          "text": [
            "7\n"
          ]
        },
        {
          "output_type": "execute_result",
          "data": {
            "text/plain": [
              "<PIL.Image.Image image mode=L size=100x100 at 0x7F01CB6668B0>"
            ],
            "image/png": "[encoded data removed]"
          },
          "metadata": {},
          "execution_count": 22
        }
      ]
    },
    {
      "cell_type": "code",
      "source": [
        "# träna modellen\n",
        "# viktigt att splitta datasetet"
      ],
      "metadata": {
        "id": "44BuXG8Huukj"
      },
      "execution_count": 23,
      "outputs": []
    },
    {
      "cell_type": "code",
      "source": [
        "data.images.shape"
      ],
      "metadata": {
        "id": "GSeaSMFpwvhX",
        "outputId": "95e90c73-f3fc-4dab-8ad0-7454f8f28738",
        "colab": {
          "base_uri": "https://localhost:8080/"
        }
      },
      "execution_count": 24,
      "outputs": [
        {
          "output_type": "execute_result",
          "data": {
            "text/plain": [
              "(1797, 8, 8)"
            ]
          },
          "metadata": {},
          "execution_count": 24
        }
      ]
    },
    {
      "cell_type": "code",
      "source": [
        "data.images.reshape((len(data.images),-1)).shape"
      ],
      "metadata": {
        "id": "hhsEqVl9yGTi",
        "outputId": "0f5fb2dd-1bd3-4351-acc6-513fb7c6fc07",
        "colab": {
          "base_uri": "https://localhost:8080/"
        }
      },
      "execution_count": 25,
      "outputs": [
        {
          "output_type": "execute_result",
          "data": {
            "text/plain": [
              "(1797, 64)"
            ]
          },
          "metadata": {},
          "execution_count": 25
        }
      ]
    },
    {
      "cell_type": "code",
      "source": [
        "from sklearn.model_selection import train_test_split"
      ],
      "metadata": {
        "id": "97jft6JIxRY7"
      },
      "execution_count": 26,
      "outputs": []
    },
    {
      "cell_type": "code",
      "source": [
        "flat_dataset = data.images.reshape((len(data.images),-1))\n",
        "x_train, x_test, y_train, y_test = train_test_split(flat_dataset, data.target, train_size=0.8)"
      ],
      "metadata": {
        "id": "5Twc4RGDxRrr"
      },
      "execution_count": 27,
      "outputs": []
    },
    {
      "cell_type": "code",
      "source": [
        "x_test.shape"
      ],
      "metadata": {
        "id": "Ww2XNRZ2xRzR",
        "outputId": "df443b85-ba5f-4c3c-e23b-ed35d01b1d1a",
        "colab": {
          "base_uri": "https://localhost:8080/"
        }
      },
      "execution_count": 28,
      "outputs": [
        {
          "output_type": "execute_result",
          "data": {
            "text/plain": [
              "(360, 64)"
            ]
          },
          "metadata": {},
          "execution_count": 28
        }
      ]
    },
    {
      "cell_type": "code",
      "source": [
        "print(y_train[0])\n",
        "Image.fromarray((x_train[0].reshape(8,8)/16*255).astype(np.uint8),'L').resize((100,100))"
      ],
      "metadata": {
        "id": "GSXY2X7lzPsB",
        "outputId": "37367e4b-c31a-49af-fc0c-a4b8472789e4",
        "colab": {
          "base_uri": "https://localhost:8080/",
          "height": 134
        }
      },
      "execution_count": 29,
      "outputs": [
        {
          "output_type": "stream",
          "name": "stdout",
          "text": [
            "0\n"
          ]
        },
        {
          "output_type": "execute_result",
          "data": {
            "text/plain": [
              "<PIL.Image.Image image mode=L size=100x100 at 0x7F01BFC0BFD0>"
            ],
            "image/png": "[encoded data removed]"
          },
          "metadata": {},
          "execution_count": 29
        }
      ]
    },
    {
      "cell_type": "code",
      "source": [
        "print(y_test[100])\n",
        "Image.fromarray((x_test[100].reshape(8,8)/16*255).astype(np.uint8),'L').resize((100,100))"
      ],
      "metadata": {
        "id": "sjyViKFWzPz0",
        "outputId": "5a65274c-72da-4a5f-8dd0-0ce660f49bf8",
        "colab": {
          "base_uri": "https://localhost:8080/",
          "height": 134
        }
      },
      "execution_count": 30,
      "outputs": [
        {
          "output_type": "stream",
          "name": "stdout",
          "text": [
            "0\n"
          ]
        },
        {
          "output_type": "execute_result",
          "data": {
            "text/plain": [
              "<PIL.Image.Image image mode=L size=100x100 at 0x7F01BFC19160>"
            ],
            "image/png": "[encoded data removed]"
          },
          "metadata": {},
          "execution_count": 30
        }
      ]
    },
    {
      "cell_type": "code",
      "source": [
        "from sklearn import svm"
      ],
      "metadata": {
        "id": "SzdbZkUZzP5m"
      },
      "execution_count": 31,
      "outputs": []
    },
    {
      "cell_type": "code",
      "source": [
        "model = svm.SVC(gamma=0.001)\n",
        "model.fit(x_train, y_train)"
      ],
      "metadata": {
        "id": "Q3wN4kn-2Ni0",
        "outputId": "3a00b62a-c539-4d04-cf72-3a4bfe5efae8",
        "colab": {
          "base_uri": "https://localhost:8080/"
        }
      },
      "execution_count": 32,
      "outputs": [
        {
          "output_type": "execute_result",
          "data": {
            "text/plain": [
              "SVC(gamma=0.001)"
            ]
          },
          "metadata": {},
          "execution_count": 32
        }
      ]
    },
    {
      "cell_type": "code",
      "source": [
        "model.predict(x_train[0:10])"
      ],
      "metadata": {
        "id": "JIrXILbk3Jo_",
        "outputId": "b91a7f2a-4059-46d7-82f4-34963a8760ab",
        "colab": {
          "base_uri": "https://localhost:8080/"
        }
      },
      "execution_count": 33,
      "outputs": [
        {
          "output_type": "execute_result",
          "data": {
            "text/plain": [
              "array([0, 8, 2, 6, 9, 2, 8, 9, 3, 3])"
            ]
          },
          "metadata": {},
          "execution_count": 33
        }
      ]
    },
    {
      "cell_type": "code",
      "source": [
        "y_train[0:10]"
      ],
      "metadata": {
        "id": "2BQi4avt3TIM",
        "outputId": "365281c3-e367-4967-c84a-ee7a7b839a32",
        "colab": {
          "base_uri": "https://localhost:8080/"
        }
      },
      "execution_count": 34,
      "outputs": [
        {
          "output_type": "execute_result",
          "data": {
            "text/plain": [
              "array([0, 8, 2, 6, 9, 2, 8, 9, 3, 3])"
            ]
          },
          "metadata": {},
          "execution_count": 34
        }
      ]
    },
    {
      "cell_type": "code",
      "source": [
        "model.predict(x_test[0:10])"
      ],
      "metadata": {
        "id": "46MA_EcB3v3T",
        "outputId": "c8e20ba7-edaa-4df3-86fc-18fc01dcb03b",
        "colab": {
          "base_uri": "https://localhost:8080/"
        }
      },
      "execution_count": 35,
      "outputs": [
        {
          "output_type": "execute_result",
          "data": {
            "text/plain": [
              "array([8, 2, 3, 4, 0, 5, 6, 0, 7, 9])"
            ]
          },
          "metadata": {},
          "execution_count": 35
        }
      ]
    },
    {
      "cell_type": "code",
      "source": [
        "y_test[0:10]"
      ],
      "metadata": {
        "id": "rMGWmmny3vrb",
        "outputId": "6036450c-85c4-461f-a2bb-bb4e096dc135",
        "colab": {
          "base_uri": "https://localhost:8080/"
        }
      },
      "execution_count": 36,
      "outputs": [
        {
          "output_type": "execute_result",
          "data": {
            "text/plain": [
              "array([8, 2, 3, 4, 0, 5, 6, 0, 7, 9])"
            ]
          },
          "metadata": {},
          "execution_count": 36
        }
      ]
    },
    {
      "cell_type": "code",
      "source": [
        "from sklearn import metrics\n",
        "predicted = model.predict(x_test)\n",
        "print(metrics.classification_report(y_test, predicted))"
      ],
      "metadata": {
        "id": "z_cwOq9c4bbv",
        "outputId": "13911ae9-e877-4493-b2b0-794e83193f08",
        "colab": {
          "base_uri": "https://localhost:8080/"
        }
      },
      "execution_count": 37,
      "outputs": [
        {
          "output_type": "stream",
          "name": "stdout",
          "text": [
            "              precision    recall  f1-score   support\n",
            "\n",
            "           0       1.00      0.97      0.99        38\n",
            "           1       0.96      1.00      0.98        25\n",
            "           2       1.00      1.00      1.00        34\n",
            "           3       0.98      1.00      0.99        41\n",
            "           4       0.97      1.00      0.98        30\n",
            "           5       0.92      1.00      0.96        35\n",
            "           6       1.00      1.00      1.00        38\n",
            "           7       0.97      0.97      0.97        40\n",
            "           8       1.00      0.95      0.97        37\n",
            "           9       0.95      0.88      0.91        42\n",
            "\n",
            "    accuracy                           0.97       360\n",
            "   macro avg       0.98      0.98      0.98       360\n",
            "weighted avg       0.98      0.97      0.97       360\n",
            "\n"
          ]
        }
      ]
    },
    {
      "cell_type": "code",
      "source": [
        "metrics.ConfusionMatrixDisplay.from_predictions(y_test, predicted)"
      ],
      "metadata": {
        "id": "F77JIxbP4bmQ",
        "outputId": "94fcd8f2-ec77-49b2-afc2-00955b25ccc8",
        "colab": {
          "base_uri": "https://localhost:8080/",
          "height": 296
        }
      },
      "execution_count": 38,
      "outputs": [
        {
          "output_type": "execute_result",
          "data": {
            "text/plain": [
              "<sklearn.metrics._plot.confusion_matrix.ConfusionMatrixDisplay at 0x7f01bfc0ba30>"
            ]
          },
          "metadata": {},
          "execution_count": 38
        },
        {
          "output_type": "display_data",
          "data": {
            "text/plain": [
              "<Figure size 432x288 with 2 Axes>"
            ],
            "image/png": "[encoded data removed]"
          },
          "metadata": {
            "needs_background": "light"
          }
        }
      ]
    },
    {
      "cell_type": "code",
      "source": [
        "import pickle"
      ],
      "metadata": {
        "id": "GZOJ9iYy5ddE"
      },
      "execution_count": 39,
      "outputs": []
    },
    {
      "cell_type": "code",
      "source": [
        "with open('model.pkl','wb') as fio:\n",
        "  pickle.dump(model,fio)"
      ],
      "metadata": {
        "id": "LmZvJIJV9H0W"
      },
      "execution_count": 40,
      "outputs": []
    },
    {
      "cell_type": "code",
      "source": [
        "with open('model.pkl','rb') as fio:\n",
        "  nymodel =pickle.load(fio)"
      ],
      "metadata": {
        "id": "7dsHP_KC9Ht7"
      },
      "execution_count": 41,
      "outputs": []
    },
    {
      "cell_type": "code",
      "source": [
        "nymodel.predict(x_test[:10])"
      ],
      "metadata": {
        "id": "OdWIzsZC9HmV",
        "outputId": "7e4744b5-9e6a-4ea3-b41c-a391e6fde354",
        "colab": {
          "base_uri": "https://localhost:8080/"
        }
      },
      "execution_count": 44,
      "outputs": [
        {
          "output_type": "execute_result",
          "data": {
            "text/plain": [
              "array([8, 2, 3, 4, 0, 5, 6, 0, 7, 9])"
            ]
          },
          "metadata": {},
          "execution_count": 44
        }
      ]
    },
    {
      "cell_type": "code",
      "source": [
        "y_test[:10]"
      ],
      "metadata": {
        "id": "EQgjkogv-Wfn",
        "outputId": "123e17b9-f4b0-4b90-8fe9-5d275b7f7cd2",
        "colab": {
          "base_uri": "https://localhost:8080/"
        }
      },
      "execution_count": 43,
      "outputs": [
        {
          "output_type": "execute_result",
          "data": {
            "text/plain": [
              "array([8, 2, 3, 4, 0, 5, 6, 0, 7, 9])"
            ]
          },
          "metadata": {},
          "execution_count": 43
        }
      ]
    },
    {
      "cell_type": "code",
      "source": [
        "im = Image.open(\"nummer_1.jpg\").resize((8,8))"
      ],
      "metadata": {
        "id": "yt8VA7Iy-WYK"
      },
      "execution_count": 58,
      "outputs": []
    },
    {
      "cell_type": "code",
      "source": [
        "np_im =np.array(im)"
      ],
      "metadata": {
        "id": "HmAsHr5X-WMM"
      },
      "execution_count": 59,
      "outputs": []
    },
    {
      "cell_type": "code",
      "source": [
        "np_im.astype(np.float32) /255 * 16"
      ],
      "metadata": {
        "id": "x9te1wOFCwco",
        "outputId": "4c806d64-11ff-44a0-f656-8e9334457b6f",
        "colab": {
          "base_uri": "https://localhost:8080/"
        }
      },
      "execution_count": 60,
      "outputs": [
        {
          "output_type": "execute_result",
          "data": {
            "text/plain": [
              "array([[ 0.       ,  0.       ,  0.       ,  0.       ,  0.       ,\n",
              "         0.       ,  0.       ,  0.       ],\n",
              "       [ 0.       ,  0.       ,  1.5058824, 11.105883 ,  4.5803924,\n",
              "         0.       ,  0.       ,  0.       ],\n",
              "       [ 0.       ,  0.       ,  6.462745 , 15.623529 ,  8.3450985,\n",
              "         0.       ,  0.       ,  0.       ],\n",
              "       [ 0.       ,  0.       ,  0.5647059,  9.286275 ,  9.537255 ,\n",
              "         0.       ,  0.       ,  0.       ],\n",
              "       [ 0.       ,  0.       ,  0.       ,  8.407844 ,  9.850981 ,\n",
              "         0.       ,  0.       ,  0.       ],\n",
              "       [ 0.       ,  0.       ,  0.       ,  9.035295 ,  9.976471 ,\n",
              "         0.       ,  0.       ,  0.       ],\n",
              "       [ 0.       ,  0.       ,  0.       ,  5.772549 ,  4.8313727,\n",
              "         0.       ,  0.       ,  0.       ],\n",
              "       [ 0.       ,  0.       ,  0.       ,  0.       ,  0.       ,\n",
              "         0.       ,  0.       ,  0.       ]], dtype=float32)"
            ]
          },
          "metadata": {},
          "execution_count": 60
        }
      ]
    },
    {
      "cell_type": "code",
      "source": [
        "preprocessed_img = np_im.astype(np.float32) /255 * 16"
      ],
      "metadata": {
        "id": "qTLsprpqC3n7"
      },
      "execution_count": 61,
      "outputs": []
    },
    {
      "cell_type": "code",
      "source": [
        "preprocessed_img.flatten()[None].shape "
      ],
      "metadata": {
        "id": "UKS57J8fEI56",
        "outputId": "0e4c01f2-b54a-4bdc-e6df-0ecdc59bc661",
        "colab": {
          "base_uri": "https://localhost:8080/"
        }
      },
      "execution_count": 62,
      "outputs": [
        {
          "output_type": "execute_result",
          "data": {
            "text/plain": [
              "(1, 64)"
            ]
          },
          "metadata": {},
          "execution_count": 62
        }
      ]
    },
    {
      "cell_type": "code",
      "source": [
        "preprocessed_img[None].shape"
      ],
      "metadata": {
        "id": "-a753sPSC3c7",
        "outputId": "155c77e4-5345-4f95-f469-4aa20722ed13",
        "colab": {
          "base_uri": "https://localhost:8080/"
        }
      },
      "execution_count": 63,
      "outputs": [
        {
          "output_type": "execute_result",
          "data": {
            "text/plain": [
              "(1, 8, 8)"
            ]
          },
          "metadata": {},
          "execution_count": 63
        }
      ]
    },
    {
      "cell_type": "code",
      "source": [
        "model.predict(preprocessed_img.flatten()[None])"
      ],
      "metadata": {
        "id": "B3pQ_rL_C3Rm",
        "outputId": "56fb404f-e409-4318-9a66-4b08b83a4d31",
        "colab": {
          "base_uri": "https://localhost:8080/"
        }
      },
      "execution_count": 64,
      "outputs": [
        {
          "output_type": "execute_result",
          "data": {
            "text/plain": [
              "array([1])"
            ]
          },
          "metadata": {},
          "execution_count": 64
        }
      ]
    }
  ]
}