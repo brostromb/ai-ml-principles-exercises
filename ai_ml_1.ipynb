{
  "nbformat": 4,
  "nbformat_minor": 0,
  "metadata": {
    "colab": {
      "provenance": [],
      "authorship_tag": "ABX9TyNRIVprN2XTqYoOh8G6pbZH",
      "include_colab_link": true
    },
    "kernelspec": {
      "name": "python3",
      "display_name": "Python 3"
    },
    "language_info": {
      "name": "python"
    }
  },
  "cells": [
    {
      "cell_type": "markdown",
      "metadata": {
        "id": "view-in-github",
        "colab_type": "text"
      },
      "source": [
        "<a href=\"https://colab.research.google.com/github/brostromb/ai-ml-principles-exercises/blob/main/ai_ml_1.ipynb\" target=\"_parent\"><img src=\"https://colab.research.google.com/assets/colab-badge.svg\" alt=\"Open In Colab\"/></a>"
      ]
    },
    {
      "cell_type": "code",
      "execution_count": null,
      "metadata": {
        "id": "uEW3dUxVnkri"
      },
      "outputs": [],
      "source": [
        "print('hello world!')"
      ]
    },
    {
      "cell_type": "code",
      "source": [
        "import sklearn"
      ],
      "metadata": {
        "id": "ia4hMwVnnuo6"
      },
      "execution_count": null,
      "outputs": []
    },
    {
      "cell_type": "code",
      "source": [
        "import sklearn.datasets as datasets"
      ],
      "metadata": {
        "id": "ma2sIQQ8n0fO"
      },
      "execution_count": null,
      "outputs": []
    },
    {
      "cell_type": "code",
      "source": [
        "data = datasets.load_digits()"
      ],
      "metadata": {
        "id": "-qNtdojRoNk5"
      },
      "execution_count": null,
      "outputs": []
    },
    {
      "cell_type": "code",
      "source": [
        "type(data)"
      ],
      "metadata": {
        "id": "sswZtZ25oOT6"
      },
      "execution_count": null,
      "outputs": []
    },
    {
      "cell_type": "code",
      "source": [
        "data.keys()"
      ],
      "metadata": {
        "id": "BDO1oSm4oQRj"
      },
      "execution_count": null,
      "outputs": []
    },
    {
      "cell_type": "code",
      "source": [
        "len(data.images)"
      ],
      "metadata": {
        "id": "vWJemVVOoQYm"
      },
      "execution_count": null,
      "outputs": []
    },
    {
      "cell_type": "code",
      "source": [
        "(data.images[0] / 16 * 255).astype(np.uint8)"
      ],
      "metadata": {
        "id": "Dy3msOm2pRzy"
      },
      "execution_count": null,
      "outputs": []
    },
    {
      "cell_type": "code",
      "source": [
        "data.target[0]"
      ],
      "metadata": {
        "id": "UC1pGMA_p1vx"
      },
      "execution_count": null,
      "outputs": []
    },
    {
      "cell_type": "code",
      "source": [
        "import numpy as np"
      ],
      "metadata": {
        "id": "m25TrTnDqqCW"
      },
      "execution_count": null,
      "outputs": []
    },
    {
      "cell_type": "code",
      "source": [
        "np.max(data.images)"
      ],
      "metadata": {
        "id": "lE3iMs89quOx"
      },
      "execution_count": null,
      "outputs": []
    },
    {
      "cell_type": "code",
      "source": [
        "from PIL import Image\n",
        "Image.fromarray((data.images[0] / 16 * 255).astype(np.uint8), 'L').resize((100,100), resample=Image.NEAREST)"
      ],
      "metadata": {
        "id": "By-EJ8EdquFB"
      },
      "execution_count": null,
      "outputs": []
    },
    {
      "cell_type": "code",
      "source": [
        "from PIL import Image\n",
        "i=0\n",
        "print(data.target[i])\n",
        "Image.fromarray((data.images[i] / 16 * 255).astype(np.uint8), 'L').resize((100,100), resample=Image.NEAREST)"
      ],
      "metadata": {
        "id": "1uosncdNqt2L"
      },
      "execution_count": null,
      "outputs": []
    },
    {
      "cell_type": "code",
      "source": [
        "from PIL import Image\n",
        "i=7\n",
        "print(data.target[i])\n",
        "Image.fromarray((data.images[i] / 16 * 255).astype(np.uint8), 'L').resize((100,100), resample=Image.NEAREST)"
      ],
      "metadata": {
        "id": "WQWgnCEJutBA"
      },
      "execution_count": null,
      "outputs": []
    },
    {
      "cell_type": "code",
      "source": [
        "# träna modellen\n",
        "# viktigt att splitta datasetet"
      ],
      "metadata": {
        "id": "44BuXG8Huukj"
      },
      "execution_count": null,
      "outputs": []
    },
    {
      "cell_type": "code",
      "source": [
        "data.images.shape"
      ],
      "metadata": {
        "id": "GSeaSMFpwvhX"
      },
      "execution_count": null,
      "outputs": []
    },
    {
      "cell_type": "code",
      "source": [
        "data.images.reshape((len(data.images),-1)).shape"
      ],
      "metadata": {
        "id": "hhsEqVl9yGTi"
      },
      "execution_count": null,
      "outputs": []
    },
    {
      "cell_type": "code",
      "source": [
        "from sklearn.model_selection import train_test_split"
      ],
      "metadata": {
        "id": "97jft6JIxRY7"
      },
      "execution_count": null,
      "outputs": []
    },
    {
      "cell_type": "code",
      "source": [
        "flat_dataset = data.images.reshape((len(data.images),-1))\n",
        "x_train, x_test, y_train, y_test = train_test_split(flat_dataset, data.target, train_size=0.8)"
      ],
      "metadata": {
        "id": "5Twc4RGDxRrr"
      },
      "execution_count": null,
      "outputs": []
    },
    {
      "cell_type": "code",
      "source": [
        "x_test.shape"
      ],
      "metadata": {
        "id": "Ww2XNRZ2xRzR"
      },
      "execution_count": null,
      "outputs": []
    },
    {
      "cell_type": "code",
      "source": [
        "print(y_train[0])\n",
        "Image.fromarray((x_train[0].reshape(8,8)/16*255).astype(np.uint8),'L').resize((100,100))"
      ],
      "metadata": {
        "id": "GSXY2X7lzPsB"
      },
      "execution_count": null,
      "outputs": []
    },
    {
      "cell_type": "code",
      "source": [
        "print(y_test[100])\n",
        "Image.fromarray((x_test[100].reshape(8,8)/16*255).astype(np.uint8),'L').resize((100,100))"
      ],
      "metadata": {
        "id": "sjyViKFWzPz0"
      },
      "execution_count": null,
      "outputs": []
    },
    {
      "cell_type": "code",
      "source": [
        "from sklearn import svm"
      ],
      "metadata": {
        "id": "SzdbZkUZzP5m"
      },
      "execution_count": null,
      "outputs": []
    },
    {
      "cell_type": "code",
      "source": [
        "model = svm.SVC(gamma=0.001)\n",
        "model.fit(x_train, y_train)"
      ],
      "metadata": {
        "id": "Q3wN4kn-2Ni0"
      },
      "execution_count": null,
      "outputs": []
    },
    {
      "cell_type": "code",
      "source": [
        "model.predict(x_train[0:10])"
      ],
      "metadata": {
        "id": "JIrXILbk3Jo_"
      },
      "execution_count": null,
      "outputs": []
    },
    {
      "cell_type": "code",
      "source": [
        "y_train[0:10]"
      ],
      "metadata": {
        "id": "2BQi4avt3TIM"
      },
      "execution_count": null,
      "outputs": []
    },
    {
      "cell_type": "code",
      "source": [
        "model.predict(x_test[0:10])"
      ],
      "metadata": {
        "id": "46MA_EcB3v3T"
      },
      "execution_count": null,
      "outputs": []
    },
    {
      "cell_type": "code",
      "source": [
        "y_test[0:10]"
      ],
      "metadata": {
        "id": "rMGWmmny3vrb"
      },
      "execution_count": null,
      "outputs": []
    },
    {
      "cell_type": "code",
      "source": [
        "from sklearn import metrics\n",
        "predicted = model.predict(x_test)\n",
        "print(metrics.classification_report(y_test, predicted))"
      ],
      "metadata": {
        "id": "z_cwOq9c4bbv"
      },
      "execution_count": null,
      "outputs": []
    },
    {
      "cell_type": "code",
      "source": [
        "metrics.ConfusionMatrixDisplay.from_predictions(y_test, predicted)"
      ],
      "metadata": {
        "id": "F77JIxbP4bmQ"
      },
      "execution_count": null,
      "outputs": []
    },
    {
      "cell_type": "code",
      "source": [],
      "metadata": {
        "id": "GZOJ9iYy5ddE"
      },
      "execution_count": null,
      "outputs": []
    }
  ]
}