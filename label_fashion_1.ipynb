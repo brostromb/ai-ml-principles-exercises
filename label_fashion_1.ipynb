{
  "nbformat": 4,
  "nbformat_minor": 0,
  "metadata": {
    "colab": {
      "provenance": [],
      "authorship_tag": "ABX9TyNfdc1AnbxqeOmNW8CUsUdj",
      "include_colab_link": true
    },
    "kernelspec": {
      "name": "python3",
      "display_name": "Python 3"
    },
    "language_info": {
      "name": "python"
    }
  },
  "cells": [
    {
      "cell_type": "markdown",
      "metadata": {
        "id": "view-in-github",
        "colab_type": "text"
      },
      "source": [
        "<a href=\"https://colab.research.google.com/github/brostromb/ai-ml-principles-exercises/blob/main/label_fashion_1.ipynb\" target=\"_parent\"><img src=\"https://colab.research.google.com/assets/colab-badge.svg\" alt=\"Open In Colab\"/></a>"
      ]
    },
    {
      "cell_type": "code",
      "execution_count": null,
      "metadata": {
        "id": "2qi8lt_ihPPr"
      },
      "outputs": [],
      "source": [
        "import sys\n",
        "!{sys.executable} -m pip install numpy tensorflow wandb\n",
        "\n",
        "import wandb\n",
        "import numpy as np\n",
        "from tensorflow import keras\n",
        "import matplotlib.pyplot as plt\n",
        "from IPython.display import clear_output\n",
        "clear_output()"
      ]
    },
    {
      "cell_type": "code",
      "source": [
        "from datetime import datetime\n",
        "\n",
        "date_and_time = datetime.now().strftime(\"%Y-%m-%d %H:%M:%S\")\n",
        "\n",
        "wandb_run = wandb.init(\n",
        "    project=\"labels_fashion\",\n",
        "    name=f\"preprocessing {date_and_time}\"\n",
        ")"
      ],
      "metadata": {
        "id": "fPE650pMhRwb"
      },
      "execution_count": null,
      "outputs": []
    },
    {
      "cell_type": "code",
      "source": [
        "(x_train, y_train), (x_test, y_test) = keras.datasets.fashion_mnist.load_data()"
      ],
      "metadata": {
        "id": "PjdsW5thhR1_"
      },
      "execution_count": null,
      "outputs": []
    },
    {
      "cell_type": "code",
      "source": [
        "def log_bar(x, y, title, x_name=\"x\", y_name=\"y\", keep_order=False):\n",
        "    if keep_order:\n",
        "        x = [f\"{idx}: {x_}\" for idx, x_ in enumerate(x)] # Make sure alphabetical sorting works\n",
        "    table = wandb.Table(\n",
        "        data=[[x, y] for x, y in zip(x, y)],\n",
        "        columns=[x_name, y_name]\n",
        "    )\n",
        "    wandb.log({title: wandb.plot.bar(table, x_name, y_name, title=title)})\n",
        "\n",
        "\n",
        "def create_histogram(data, min_value=None, max_value=None, bins=10):\n",
        "    if min_value is None:\n",
        "        min_value = data.min()\n",
        "    if max_value is None:\n",
        "        max_value = data.max()\n",
        "\n",
        "    if isinstance(bins, int):\n",
        "        bin_edges = np.linspace(min_value, max_value, num=bins)\n",
        "    else:\n",
        "        bin_edges = bins\n",
        "        \n",
        "    numbers, _ = np.histogram(data, bins=bin_edges)\n",
        "    bin_names = [f\"{lower:.1f}-{upper:.1f}\" for lower, upper in zip(bin_edges[:-1], bin_edges[1:])]\n",
        "\n",
        "    return bin_names, numbers"
      ],
      "metadata": {
        "id": "jdatEN76hR--"
      },
      "execution_count": null,
      "outputs": []
    },
    {
      "cell_type": "code",
      "source": [
        "from collections import Counter\n",
        "\n",
        "num_images_per_label = Counter(y_train)\n",
        "x, num_images = zip(*((str(x_), num_) for x_, num_ in sorted(num_images_per_label.items())))\n",
        "log_bar(x, num_images, \"Labels in training data\", x_name=\"Label\", y_name=\"# images\")\n",
        "\n",
        "num_images_per_label = Counter(y_test)\n",
        "x, num_images = zip(*((str(x_), num_) for x_, num_ in sorted(num_images_per_label.items())))\n",
        "log_bar(x, num_images, \"Labels in test data\", x_name=\"Label\", y_name=\"# images\")"
      ],
      "metadata": {
        "id": "92Wv1mjAhSBW"
      },
      "execution_count": null,
      "outputs": []
    },
    {
      "cell_type": "code",
      "source": [
        "i = 0\n",
        "print(f\"Sample {i} is number {y_train[i]}\")\n",
        "plt.imshow(x_train[0])\n",
        "\n",
        "image = wandb.Image(x_train[0], caption=f\"Training sample {i} is a {y_train[i]}\")\n",
        "wandb.log({\"Example training images\": image})"
      ],
      "metadata": {
        "id": "qS_IKCt-hSDO"
      },
      "execution_count": null,
      "outputs": []
    },
    {
      "cell_type": "code",
      "source": [
        "i = 1000\n",
        "print(f\"Sample {i} is number {y_train[i]}\")\n",
        "plt.imshow(x_train[1000])\n",
        "\n",
        "image = wandb.Image(x_train[1000], caption=f\"Training sample {i} is a {y_train[i]}\")\n",
        "wandb.log({\"Example training images\": image})"
      ],
      "metadata": {
        "id": "OAhGtOtyhSIf"
      },
      "execution_count": null,
      "outputs": []
    },
    {
      "cell_type": "code",
      "source": [
        "i = 2000\n",
        "print(f\"Sample {i} is number {y_train[i]}\")\n",
        "plt.imshow(x_train[2000])\n",
        "\n",
        "image = wandb.Image(x_train[2000], caption=f\"Training sample {i} is a {y_train[i]}\")\n",
        "wandb.log({\"Example training images\": image})"
      ],
      "metadata": {
        "id": "sOQVYw-VhSKS"
      },
      "execution_count": null,
      "outputs": []
    },
    {
      "cell_type": "code",
      "source": [
        "print(\"Label: \", y_train[1000])"
      ],
      "metadata": {
        "id": "taHQt6qzhSN2"
      },
      "execution_count": null,
      "outputs": []
    },
    {
      "cell_type": "code",
      "source": [
        "min_value = min(x_train.min(), x_test.min())\n",
        "max_value = max(x_train.max(), x_test.max())\n",
        "wandb_run.summary[\"raw\"] = {\"min\": min_value, \"max\": max_value, \"dtype\": str(x_train.dtype)}\n",
        "\n",
        "# Create a new histogram of the image pixels intensities\n",
        "bin_names, train_hist = create_histogram(x_train)\n",
        "log_bar(bin_names, train_hist, \"Raw training data\", x_name=\"bin\", y_name=\"# pixels\", keep_order=True)"
      ],
      "metadata": {
        "id": "9ZblbkvmhSU5"
      },
      "execution_count": null,
      "outputs": []
    },
    {
      "cell_type": "code",
      "source": [
        "x_train_norm = x_train / 128 - 1\n",
        "x_test_norm = x_test / 128 - 1"
      ],
      "metadata": {
        "id": "UvJodWT_hSYU"
      },
      "execution_count": null,
      "outputs": []
    },
    {
      "cell_type": "code",
      "source": [
        "min_value = min(x_train_norm.min(), x_test_norm.min())\n",
        "max_value = max(x_train_norm.max(), x_test_norm.max())\n",
        "wandb_run.summary[\"preprocessed\"] = {\"min\": min_value, \"max\": max_value, \"dtype\": str(x_train_norm.dtype)}\n",
        "\n",
        "bin_names, train_hist = create_histogram(x_train_norm)\n",
        "log_bar(bin_names, train_hist, \"Preprocessed training data\", x_name=\"bin\", y_name=\"# pixels\", keep_order=True)"
      ],
      "metadata": {
        "id": "1pkGUYmSiVIo"
      },
      "execution_count": null,
      "outputs": []
    },
    {
      "cell_type": "code",
      "source": [
        "i = 0\n",
        "print(f\"Sample {i} is number {y_train[i]}\")\n",
        "plt.imshow(x_train_norm[0])\n",
        "\n",
        "image = wandb.Image(x_train_norm[0], caption=f\"Training sample {i} is a {y_train[i]}\")\n",
        "wandb.log({\"Example training image (preprocessed)\": image})"
      ],
      "metadata": {
        "id": "SbLrnBlNiU9t"
      },
      "execution_count": null,
      "outputs": []
    },
    {
      "cell_type": "code",
      "source": [
        "num_images_per_label = Counter(y_test)\n",
        "min_number_of_labels = min(num_images_per_label.values())\n",
        "\n",
        "indexes_to_keep = []\n",
        "for label in num_images_per_label.keys():\n",
        "  indexes_to_keep.extend(\n",
        "      np.random.choice(\n",
        "          np.where(y_test == label)[0],\n",
        "          size=min_number_of_labels,\n",
        "          replace=False\n",
        "      ).tolist()\n",
        "  )\n",
        "\n",
        "np.random.shuffle(indexes_to_keep)\n",
        "x_test_norm_subsamp = x_test_norm[indexes_to_keep]\n",
        "y_test_subsamp = y_test[indexes_to_keep]"
      ],
      "metadata": {
        "id": "oabed-NqiuQl"
      },
      "execution_count": null,
      "outputs": []
    },
    {
      "cell_type": "code",
      "source": [
        "x_test_norm_subsamp.shape"
      ],
      "metadata": {
        "id": "60WbcR1CiuEz"
      },
      "execution_count": null,
      "outputs": []
    },
    {
      "cell_type": "code",
      "source": [
        "print(f\"This should be a {y_test_subsamp[0]}\")\n",
        "plt.imshow(x_test_norm_subsamp[0])\n",
        "wandb.log({\"Verify still in sync\": image})"
      ],
      "metadata": {
        "id": "T7t0GB47it56"
      },
      "execution_count": null,
      "outputs": []
    },
    {
      "cell_type": "code",
      "source": [
        "num_images_per_label = Counter(y_test_subsamp)\n",
        "labels_, num_images = zip(*((str(label), number) for label, number in sorted(num_images_per_label.items())))\n",
        "log_bar(labels_, num_images, \"Labels in test data (subsampled)\", x_name=\"Label\", y_name=\"# images\")"
      ],
      "metadata": {
        "id": "us4ZhkKJjJt2"
      },
      "execution_count": null,
      "outputs": []
    },
    {
      "cell_type": "code",
      "source": [],
      "metadata": {
        "id": "Ea35xMsUjJmz"
      },
      "execution_count": null,
      "outputs": []
    },
    {
      "cell_type": "code",
      "source": [],
      "metadata": {
        "id": "iPJ9pgz-jJZR"
      },
      "execution_count": null,
      "outputs": []
    }
  ]
}