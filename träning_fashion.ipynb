{
  "nbformat": 4,
  "nbformat_minor": 0,
  "metadata": {
    "colab": {
      "provenance": [],
      "authorship_tag": "ABX9TyPBNY+eVv2QqHUuRgalVxF0",
      "include_colab_link": true
    },
    "kernelspec": {
      "name": "python3",
      "display_name": "Python 3"
    },
    "language_info": {
      "name": "python"
    }
  },
  "cells": [
    {
      "cell_type": "markdown",
      "metadata": {
        "id": "view-in-github",
        "colab_type": "text"
      },
      "source": [
        "<a href=\"https://colab.research.google.com/github/brostromb/ai-ml-principles-exercises/blob/main/tr%C3%A4ning_fashion.ipynb\" target=\"_parent\"><img src=\"https://colab.research.google.com/assets/colab-badge.svg\" alt=\"Open In Colab\"/></a>"
      ]
    },
    {
      "cell_type": "code",
      "source": [
        "import sys\n",
        "!{sys.executable} -m pip install numpy tensorflow\n",
        "from IPython.display import clear_output\n",
        "clear_output()\n",
        "import numpy as np\n",
        "from tensorflow import keras\n",
        "from tensorflow.keras import layers"
      ],
      "metadata": {
        "id": "LlZsWWZBpJJK"
      },
      "execution_count": null,
      "outputs": []
    },
    {
      "cell_type": "code",
      "source": [
        "from IPython.display import clear_output\n",
        "clear_output()\n",
        "\n",
        "!pip install wandb\n",
        "\n",
        "clear_output()"
      ],
      "metadata": {
        "id": "WShfwrzopJFv"
      },
      "execution_count": null,
      "outputs": []
    },
    {
      "cell_type": "code",
      "source": [
        "import wandb\n",
        "wandb.login()"
      ],
      "metadata": {
        "id": "CjuwWzk8pJDJ"
      },
      "execution_count": null,
      "outputs": []
    },
    {
      "cell_type": "code",
      "source": [
        "def create_cnn(input_shape, output_classes):\n",
        "    return keras.Sequential(\n",
        "        [\n",
        "            keras.Input(shape=input_shape),\n",
        "            layers.Conv2D(32, kernel_size=(3, 3), activation=\"relu\"),\n",
        "            layers.MaxPooling2D(pool_size=(2, 2)),\n",
        "            layers.Conv2D(64, kernel_size=(3, 3), activation=\"relu\"),\n",
        "            layers.MaxPooling2D(pool_size=(2, 2)),\n",
        "            layers.Flatten(),\n",
        "            layers.Dense(output_classes, activation=\"softmax\"),\n",
        "        ]\n",
        "    )"
      ],
      "metadata": {
        "id": "N6N3E3WWpJAh"
      },
      "execution_count": null,
      "outputs": []
    },
    {
      "cell_type": "code",
      "source": [
        "def get_fashion_data():\n",
        "    # Load the data and split it between train and test sets\n",
        "    (x_train, y_train), (x_test, y_test) = keras.datasets.fashion_mnist.load_data()\n",
        "    x_train.shape == (60000, 28, 28)\n",
        "    x_test.shape == (10000, 28, 28)\n",
        "    y_train.shape == (60000,)\n",
        "    y_test.shape == (10000,)\n",
        "    \n",
        "    # Scale images to the [0, 1] range\n",
        "    x_train = x_train.astype(\"float32\") / 255\n",
        "    x_test = x_test.astype(\"float32\") / 255\n",
        "    \n",
        "\n",
        "    # Make sure images have shape (28, 28, 1)\n",
        "    x_train = np.expand_dims(x_train, -1)\n",
        "    x_test = np.expand_dims(x_test, -1)\n",
        "    \n",
        "\n",
        "    # convert class vectors to binary class matrices\n",
        "    num_classes = 10\n",
        "    y_train = keras.utils.to_categorical(y_train, num_classes)\n",
        "    y_test = keras.utils.to_categorical(y_test, num_classes)\n",
        "\n",
        "    return (x_train, y_train), (x_test, y_test)"
      ],
      "metadata": {
        "id": "T_lcNBDYpI97"
      },
      "execution_count": null,
      "outputs": []
    },
    {
      "cell_type": "code",
      "source": [
        "batch_size = 64\n",
        "epochs = 20"
      ],
      "metadata": {
        "id": "zWQjHCeLpI6u"
      },
      "execution_count": null,
      "outputs": []
    },
    {
      "cell_type": "code",
      "source": [
        "x_train, y_train = get_fashion_data()[0]"
      ],
      "metadata": {
        "id": "SgBl3HhipI3M"
      },
      "execution_count": null,
      "outputs": []
    },
    {
      "cell_type": "code",
      "execution_count": null,
      "metadata": {
        "id": "7mnVIvS0pIPQ"
      },
      "outputs": [],
      "source": [
        "#skapar ny mätning\n",
        "wandb.init(project=\"Ai_fashion\", config={\"batch_size\": batch_size, \"epochs\": epochs})\n",
        "# Create a Convolutional Neural Network that\n",
        "# expects a 28x28 pixel image with 1 color chanel (gray) as input\n",
        "model = create_cnn((28, 28, 1), 10)\n",
        "\n",
        "model.compile(loss=\"categorical_crossentropy\",\n",
        "              optimizer=\"adam\", metrics=[\"accuracy\"])\n",
        "model.fit(x_train, y_train, batch_size=batch_size,\n",
        "          epochs=epochs, validation_split=0.1,\n",
        "          callbacks=[wandb.keras.WandbCallback()])\n",
        "\n",
        "\n",
        "wandb.finish()\n",
        "clear_output()"
      ]
    }
  ]
}